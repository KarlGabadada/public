import yfinance as yf
import pandas as pd
import matplotlib.pyplot as plt

# Funktion, um die historischen Daten abzurufen
def get_historical_data(ticker):
    # Lade die Daten für das angegebene Tickersymbol
    stock = yf.Ticker(ticker)
    
    # Hole die historischen Preisdaten für die letzten 12 Monate
    hist = stock.history(period="1y")
    
    return hist

# Funktion zur Berechnung der Wachstumsrate
def calculate_growth_rate(df):
    if df is not None and not df.empty:
        # Anfangs- und Endkurs
        start_price = df['Close'].iloc[0]
        end_price = df['Close'].iloc[-1]

        # Wachstumsrate berechnen
        growth_rate = ((end_price - start_price) / start_price) * 100
        return growth_rate
    return None

# Hauptprogramm
ticker = "AAPL"  # Beispiel: Apple Inc.
historical_data = get_historical_data(ticker)
growth_rate = calculate_growth_rate(historical_data)

if growth_rate is not None:
    print(f"Die Wachstumsrate von {ticker} über die letzten 12 Monate beträgt: {growth_rate:.2f}%")
else:
    print("Konnte die Wachstumsrate nicht berechnen.")

# Diagramm der Schlusskurse zeichnen
plt.figure(figsize=(12, 6))
plt.plot(historical_data.index, historical_data['Close'], label='Schlusskurs', color='blue')
plt.title(f'Schlusskurse von {ticker} über die letzten 12 Monate')
plt.xlabel('Datum')
plt.ylabel('Preis in €')
plt.xticks(rotation=45)
plt.grid()
plt.legend()
plt.tight_layout()
plt.show()
