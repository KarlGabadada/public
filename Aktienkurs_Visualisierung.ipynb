{
 "cells": [
  {
   "cell_type": "code",
   "execution_count": null,
   "metadata": {},
   "outputs": [],
   "source": [
    "import yfinance as yf\n",
    "import pandas as pd\n",
    "import matplotlib.pyplot as plt\n",
    "\n",
    "# Funktion, um die historischen Daten abzurufen\n",
    "def get_historical_data(ticker):\n",
    "    # Lade die Daten für das angegebene Tickersymbol\n",
    "    stock = yf.Ticker(ticker)\n",
    "    \n",
    "    # Hole die historischen Preisdaten für die letzten 12 Monate\n",
    "    hist = stock.history(period=\"1y\")\n",
    "    \n",
    "    return hist\n",
    "\n",
    "# Funktion zur Berechnung der Wachstumsrate\n",
    "def calculate_growth_rate(df):\n",
    "    if df is not None and not df.empty:\n",
    "        # Anfangs- und Endkurs\n",
    "        start_price = df['Close'].iloc[0]\n",
    "        end_price = df['Close'].iloc[-1]\n",
    "\n",
    "        # Wachstumsrate berechnen\n",
    "        growth_rate = ((end_price - start_price) / start_price) * 100\n",
    "        return growth_rate\n",
    "    return None\n",
    "\n",
    "# Hauptprogramm\n",
    "ticker = \"AAPL\"  # Beispiel: Apple Inc.\n",
    "historical_data = get_historical_data(ticker)\n",
    "growth_rate = calculate_growth_rate(historical_data)\n",
    "\n",
    "if growth_rate is not None:\n",
    "    print(f\"Die Wachstumsrate von {ticker} über die letzten 12 Monate beträgt: {growth_rate:.2f}%\")\n",
    "else:\n",
    "    print(\"Konnte die Wachstumsrate nicht berechnen.\")\n",
    "\n",
    "# Diagramm der Schlusskurse zeichnen\n",
    "plt.figure(figsize=(12, 6))\n",
    "plt.plot(historical_data.index, historical_data['Close'], label='Schlusskurs', color='blue')\n",
    "plt.title(f'Schlusskurse von {ticker} über die letzten 12 Monate')\n",
    "plt.xlabel('Datum')\n",
    "plt.ylabel('Preis in €')\n",
    "plt.xticks(rotation=45)\n",
    "plt.grid()\n",
    "plt.legend()\n",
    "plt.tight_layout()\n",
    "plt.show()"
   ]
  }
 ],
 "metadata": {
  "kernelspec": {
   "display_name": "Python 3",
   "language": "python",
   "name": "python3"
  },
  "language_info": {
   "codemirror_mode": {
    "name": "ipython",
    "version": 3
   },
   "file_extension": ".py",
   "mimetype": "text/x-python",
   "name": "python",
   "nbconvert_exporter": "python",
   "pygments_lexer": "ipython3",
   "version": "3.8.5"
  }
 },
 "nbformat": 4,
 "nbformat_minor": 4
}
